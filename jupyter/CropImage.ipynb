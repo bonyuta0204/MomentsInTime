{
 "cells": [
  {
   "cell_type": "code",
   "execution_count": 3,
   "metadata": {
    "collapsed": true
   },
   "outputs": [],
   "source": [
    "import numpy as np\n",
    "import sys\n",
    "sys.path.append(\"../src\")\n",
    "from MITDataLoader import MITDataLoader\n",
    "from MITData import MITData"
   ]
  },
  {
   "cell_type": "code",
   "execution_count": 4,
   "metadata": {
    "collapsed": false
   },
   "outputs": [],
   "source": [
    "train_loader = MITDataLoader(train=True)\n",
    "test_loader = MITDataLoader(train=False)"
   ]
  },
  {
   "cell_type": "code",
   "execution_count": null,
   "metadata": {
    "collapsed": false
   },
   "outputs": [],
   "source": [
    "for n, data in train_loader:\n",
    "    print(\"cropping movie {0:4d} {1}...\".format(n, data.image_dir))\n",
    "    data.crop_image()"
   ]
  },
  {
   "cell_type": "code",
   "execution_count": 5,
   "metadata": {
    "collapsed": false
   },
   "outputs": [
    {
     "name": "stdout",
     "output_type": "stream",
     "text": [
      "cropping movie    0 ../data/MIT_data/test/child+speaking/v277_0047...\n",
      "cropping movie    1 ../data/MIT_data/test/waxing/v252_0075...\n",
      "cropping movie    2 ../data/MIT_data/test/exercising/v335_0098...\n",
      "cropping movie    3 ../data/MIT_data/test/sniffing/v256_0076...\n",
      "cropping movie    4 ../data/MIT_data/test/imitating/v125_0086...\n",
      "cropping movie    5 ../data/MIT_data/test/playing+videogames/v245_0075...\n",
      "cropping movie    6 ../data/MIT_data/test/sowing/v139_0091...\n",
      "cropping movie    7 ../data/MIT_data/test/fishing/v192_0049...\n",
      "cropping movie    8 ../data/MIT_data/test/cuddling/v009_0050...\n",
      "cropping movie    9 ../data/MIT_data/test/entering/v224_0001...\n",
      "cropping movie   10 ../data/MIT_data/test/shopping/v289_0029...\n",
      "cropping movie   11 ../data/MIT_data/test/calling/v207_0026...\n",
      "cropping movie   12 ../data/MIT_data/test/clipping/v047_0082...\n",
      "cropping movie   13 ../data/MIT_data/test/rafting/v114_0092...\n",
      "cropping movie   14 ../data/MIT_data/test/buying/v151_0098...\n",
      "cropping movie   15 ../data/MIT_data/test/discussing/v133_0018...\n",
      "cropping movie   16 ../data/MIT_data/test/stitching/v013_0079...\n",
      "cropping movie   17 ../data/MIT_data/test/rocking/v049_0006...\n",
      "cropping movie   18 ../data/MIT_data/test/wrestling/v332_0026...\n",
      "cropping movie   19 ../data/MIT_data/test/inflating/v181_0031...\n",
      "cropping movie   20 ../data/MIT_data/test/constructing/v055_0090...\n",
      "cropping movie   21 ../data/MIT_data/test/sleeping/v010_0012...\n",
      "cropping movie   22 ../data/MIT_data/test/unpacking/v155_0054...\n",
      "cropping movie   23 ../data/MIT_data/test/tickling/v334_0036...\n",
      "cropping movie   24 ../data/MIT_data/test/adult+female+singing/v284_0082...\n",
      "cropping movie   25 ../data/MIT_data/test/kissing/v067_0001...\n",
      "cropping movie   26 ../data/MIT_data/test/locking/v042_0035...\n",
      "cropping movie   27 ../data/MIT_data/test/burning/v331_0091...\n",
      "cropping movie   28 ../data/MIT_data/test/gambling/v264_0003...\n",
      "cropping movie   29 ../data/MIT_data/test/spraying/v014_0008...\n",
      "cropping movie   30 ../data/MIT_data/test/picking/v072_0032...\n",
      "cropping movie   31 ../data/MIT_data/test/knitting/v195_0039...\n",
      "cropping movie   32 ../data/MIT_data/test/attacking/v174_0074...\n",
      "cropping movie   33 ../data/MIT_data/test/swerving/v093_0096...\n",
      "cropping movie   34 ../data/MIT_data/test/dunking/v116_0017...\n",
      "cropping movie   35 ../data/MIT_data/test/massaging/v309_0041...\n",
      "cropping movie   36 ../data/MIT_data/test/welding/v175_0068...\n",
      "cropping movie   37 ../data/MIT_data/test/jumping/v068_0030...\n",
      "cropping movie   38 ../data/MIT_data/test/unloading/v297_0027...\n",
      "cropping movie   39 ../data/MIT_data/test/combing/v280_0019...\n",
      "cropping movie   40 ../data/MIT_data/test/adult+male+singing/v287_0063...\n",
      "cropping movie   41 ../data/MIT_data/test/hitting/v101_0017...\n",
      "cropping movie   42 ../data/MIT_data/test/flooding/v005_0057...\n",
      "cropping movie   43 ../data/MIT_data/test/filling/v081_0099...\n",
      "cropping movie   44 ../data/MIT_data/test/cheering/v150_0086...\n",
      "cropping movie   45 ../data/MIT_data/test/playing+sports/v199_0079...\n",
      "cropping movie   46 ../data/MIT_data/test/cleaning/v279_0058...\n",
      "cropping movie   47 ../data/MIT_data/test/dropping/v002_0091...\n",
      "cropping movie   48 ../data/MIT_data/test/steering/v080_0022...\n",
      "cropping movie   49 ../data/MIT_data/test/measuring/v301_0091...\n"
     ]
    }
   ],
   "source": [
    "for n, data in test_loader:\n",
    "    print(\"cropping movie {0:4d} {1}...\".format(n, data.image_dir))\n",
    "    data.crop_image()"
   ]
  },
  {
   "cell_type": "code",
   "execution_count": null,
   "metadata": {
    "collapsed": true
   },
   "outputs": [],
   "source": []
  }
 ],
 "metadata": {
  "kernelspec": {
   "display_name": "Python (video)",
   "language": "python",
   "name": "video"
  },
  "language_info": {
   "codemirror_mode": {
    "name": "ipython",
    "version": 3
   },
   "file_extension": ".py",
   "mimetype": "text/x-python",
   "name": "python",
   "nbconvert_exporter": "python",
   "pygments_lexer": "ipython3",
   "version": "3.6.0"
  }
 },
 "nbformat": 4,
 "nbformat_minor": 0
}
